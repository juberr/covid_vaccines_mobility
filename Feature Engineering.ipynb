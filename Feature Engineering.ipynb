{
 "cells": [
  {
   "cell_type": "code",
   "execution_count": 699,
   "metadata": {},
   "outputs": [],
   "source": [
    "import pandas as pd\n",
    "import numpy as np"
   ]
  },
  {
   "cell_type": "markdown",
   "metadata": {},
   "source": [
    "## General Preprocessing"
   ]
  },
  {
   "cell_type": "code",
   "execution_count": 700,
   "metadata": {},
   "outputs": [],
   "source": [
    "df = pd.read_csv('diabetic_data.csv')"
   ]
  },
  {
   "cell_type": "code",
   "execution_count": 701,
   "metadata": {},
   "outputs": [],
   "source": [
    "# Drop additional patient encounters\n",
    "df.drop_duplicates(subset=['patient_nbr'], keep ='first', inplace=True)"
   ]
  },
  {
   "cell_type": "code",
   "execution_count": 702,
   "metadata": {},
   "outputs": [],
   "source": [
    "# Drop identifying columns\n",
    "identifying_columns = ['encounter_id', 'patient_nbr']\n",
    "df.drop(identifying_columns, axis=1, inplace=True)"
   ]
  },
  {
   "cell_type": "code",
   "execution_count": 703,
   "metadata": {},
   "outputs": [],
   "source": [
    "# Drop columns with high % of missing data\n",
    "incomplete_columns = ['weight', 'payer_code', 'medical_specialty']\n",
    "df.drop(incomplete_columns, axis=1, inplace=True)"
   ]
  },
  {
   "cell_type": "code",
   "execution_count": 704,
   "metadata": {},
   "outputs": [],
   "source": [
    "# Drop rows with unknown values\n",
    "df.drop(df[df.race == \"?\"].index, inplace=True)\n",
    "df.drop(df[df.gender == \"Unknown/Invalid\"].index, inplace=True)\n",
    "\n",
    "# Drop rows with patients who are still in the hospital or expired (dead).\n",
    "\n",
    "dispos_to_drop = [20, 21, 22, 23, 24, 25, 26 , 27, 28, 29, 40, 41, 49, 11, 13, 14, 19]\n",
    "for i in dispos_to_drop:\n",
    "    df.drop(df[df.discharge_disposition_id == i].index, inplace=True)"
   ]
  },
  {
   "cell_type": "markdown",
   "metadata": {},
   "source": [
    "## Binning diagnoses"
   ]
  },
  {
   "cell_type": "code",
   "execution_count": 705,
   "metadata": {},
   "outputs": [],
   "source": [
    "\n",
    "df = df[pd.to_numeric(df['diag_1'], errors='coerce').notnull()]\n",
    "df = df[pd.to_numeric(df['diag_2'], errors='coerce').notnull()]\n",
    "df = df[pd.to_numeric(df['diag_3'], errors='coerce').notnull()]\n",
    "\n",
    "# Convert to Float64 dtypes because we want the decimals\n",
    "df.diag_1 = df.diag_1.astype('float64')\n",
    "df.diag_2 = df.diag_2.astype('float64')\n",
    "df.diag_3 = df.diag_3.astype('float64')"
   ]
  },
  {
   "cell_type": "code",
   "execution_count": 706,
   "metadata": {},
   "outputs": [],
   "source": [
    "# Converting the first diagnosis\n",
    "\n",
    "for i, row in df.iterrows():\n",
    "    if (row['diag_1'] >= 1 and row['diag_1'] <= 139): # infectious and parasitic diseases\n",
    "        df.loc[i, 'diag_1'] = 1\n",
    "    elif (row['diag_1'] >= 140 and row['diag_1'] <= 239): # neoplasms\n",
    "        df.loc[i, 'diag_1'] = 2\n",
    "    elif (row['diag_1'] >= 240 and row['diag_1'] <= 279): # endocrine, nutritional, metabolic & immunity disorders\n",
    "        df.loc[i, 'diag_1'] = 3\n",
    "    elif (row['diag_1'] >= 280 and row['diag_1'] <= 289): # diseases of the blood and blood-forming organis\n",
    "        df.loc[i, 'diag_1'] = 4\n",
    "    elif (row['diag_1'] >= 290 and row['diag_1'] <= 319): # mental disorders\n",
    "        df.loc[i, 'diag_1'] = 5\n",
    "    elif (row['diag_1'] >= 320 and row['diag_1'] <= 389): # diseases of the nervous system and sense organs\n",
    "        df.loc[i, 'diag_1'] = 6\n",
    "    elif (row['diag_1'] >= 390 and row['diag_1'] <= 459): # diseases of the circulatory system\n",
    "        df.loc[i, 'diag_1'] = 7\n",
    "    elif (row['diag_1'] >= 460 and row['diag_1'] <= 519): # diseases of the respiratory system\n",
    "        df.loc[i, 'diag_1'] = 8\n",
    "    elif (row['diag_1'] >= 520 and row['diag_1'] <= 579): # diseases of the digestive system\n",
    "        df.loc[i, 'diag_1'] = 9\n",
    "    elif (row['diag_1'] >= 580 and row['diag_1'] <= 629): # diseases of the genitourinary system\n",
    "        df.loc[i, 'diag_1'] = 10\n",
    "    elif (row['diag_1'] >= 630 and row['diag_1'] <= 679): # complications of pregnancy, childbirth and the puerperium\n",
    "        df.loc[i, 'diag_1'] = 11\n",
    "    elif (row['diag_1'] >= 680 and row['diag_1'] <= 709): # diseases of the skin and subcutaneuous tissue\n",
    "        df.loc[i, 'diag_1'] = 12\n",
    "    elif (row['diag_1'] >= 710 and row['diag_1'] <= 739): # diseases of the muscuskeletal system and connective tissue\n",
    "        df.loc[i, 'diag_1'] = 13\n",
    "    elif (row['diag_1'] >= 740 and row['diag_1'] <= 759): # congenital anomalies\n",
    "        df.loc[i, 'diag_1'] = 14\n",
    "    elif (row['diag_1'] >= 760 and row['diag_1'] <= 779): # certain condtions originating in the perinatal period\n",
    "        df.loc[i, 'diag_1'] = 15\n",
    "    elif (row['diag_1'] >= 780 and row['diag_1'] <= 799): # symptoms, signs and ill-defined conditions\n",
    "        df.loc[i, 'diag_1'] = 16\n",
    "    elif (row['diag_1'] >= 800 and row['diag_1'] <= 999): # injury and poisoning\n",
    "        df.loc[i, 'diag_1'] = 17"
   ]
  },
  {
   "cell_type": "code",
   "execution_count": 707,
   "metadata": {},
   "outputs": [],
   "source": [
    "# Converting the second diagnosis\n",
    "\n",
    "\n",
    "for i, row in df.iterrows():\n",
    "    if (row['diag_2'] >= 1 and row['diag_2'] <= 139): # infectious and parasitic diseases\n",
    "        df.loc[i, 'diag_2'] = 1\n",
    "    elif (row['diag_2'] >= 140 and row['diag_2'] <= 239): # neoplasms\n",
    "        df.loc[i, 'diag_2'] = 2\n",
    "    elif (row['diag_2'] >= 240 and row['diag_2'] <= 279): # endocrine, nutritional, metabolic & immunity disorders\n",
    "        df.loc[i, 'diag_2'] = 3\n",
    "    elif (row['diag_2'] >= 280 and row['diag_2'] <= 289): # diseases of the blood and blood-forming organis\n",
    "        df.loc[i, 'diag_2'] = 4\n",
    "    elif (row['diag_2'] >= 290 and row['diag_2'] <= 319): # mental disorders\n",
    "        df.loc[i, 'diag_2'] = 5\n",
    "    elif (row['diag_2'] >= 320 and row['diag_2'] <= 389): # diseases of the nervous system and sense organs\n",
    "        df.loc[i, 'diag_2'] = 6\n",
    "    elif (row['diag_2'] >= 390 and row['diag_2'] <= 459): # diseases of the circulatory system\n",
    "        df.loc[i, 'diag_2'] = 7\n",
    "    elif (row['diag_2'] >= 460 and row['diag_2'] <= 519): # diseases of the respiratory system\n",
    "        df.loc[i, 'diag_2'] = 8\n",
    "    elif (row['diag_2'] >= 520 and row['diag_2'] <= 579): # diseases of the digestive system\n",
    "        df.loc[i, 'diag_2'] = 9\n",
    "    elif (row['diag_2'] >= 580 and row['diag_2'] <= 629): # diseases of the genitourinary system\n",
    "        df.loc[i, 'diag_2'] = 10\n",
    "    elif (row['diag_2'] >= 630 and row['diag_2'] <= 679): # complications of pregnancy, childbirth and the puerperium\n",
    "        df.loc[i, 'diag_2'] = 11\n",
    "    elif (row['diag_2'] >= 680 and row['diag_2'] <= 709): # diseases of the skin and subcutaneuous tissue\n",
    "        df.loc[i, 'diag_2'] = 12\n",
    "    elif (row['diag_2'] >= 710 and row['diag_2'] <= 739): # diseases of the muscuskeletal system and connective tissue\n",
    "        df.loc[i, 'diag_2'] = 13\n",
    "    elif (row['diag_2'] >= 740 and row['diag_2'] <= 759): # congenital anomalies\n",
    "        df.loc[i, 'diag_2'] = 14\n",
    "    elif (row['diag_2'] >= 760 and row['diag_2'] <= 779): # certain condtions originating in the perinatal period\n",
    "        df.loc[i, 'diag_2'] = 15\n",
    "    elif (row['diag_2'] >= 780 and row['diag_2'] <= 799): # symptoms, signs and ill-defined conditions\n",
    "        df.loc[i, 'diag_2'] = 16\n",
    "    elif (row['diag_2'] >= 800 and row['diag_2'] <= 999): # injury and poisoning\n",
    "        df.loc[i, 'diag_2'] = 17"
   ]
  },
  {
   "cell_type": "code",
   "execution_count": 708,
   "metadata": {},
   "outputs": [],
   "source": [
    "# Converting the third diagnosis\n",
    "\n",
    "\n",
    "for i, row in df.iterrows():\n",
    "    if (row['diag_3'] >= 1 and row['diag_3'] <= 139): # infectious and parasitic diseases\n",
    "        df.loc[i, 'diag_3'] = 1\n",
    "    elif (row['diag_3'] >= 140 and row['diag_3'] <= 239): # neoplasms\n",
    "        df.loc[i, 'diag_3'] = 2\n",
    "    elif (row['diag_3'] >= 240 and row['diag_3'] <= 279): # endocrine, nutritional, metabolic & immunity disorders\n",
    "        df.loc[i, 'diag_3'] = 3\n",
    "    elif (row['diag_3'] >= 280 and row['diag_3'] <= 289): # diseases of the blood and blood-forming organis\n",
    "        df.loc[i, 'diag_3'] = 4\n",
    "    elif (row['diag_3'] >= 290 and row['diag_3'] <= 319): # mental disorders\n",
    "        df.loc[i, 'diag_3'] = 5\n",
    "    elif (row['diag_3'] >= 320 and row['diag_3'] <= 389): # diseases of the nervous system and sense organs\n",
    "        df.loc[i, 'diag_3'] = 6\n",
    "    elif (row['diag_3'] >= 390 and row['diag_3'] <= 459): # diseases of the circulatory system\n",
    "        df.loc[i, 'diag_3'] = 7\n",
    "    elif (row['diag_3'] >= 460 and row['diag_3'] <= 519): # diseases of the respiratory system\n",
    "        df.loc[i, 'diag_3'] = 8\n",
    "    elif (row['diag_3'] >= 520 and row['diag_3'] <= 579): # diseases of the digestive system\n",
    "        df.loc[i, 'diag_3'] = 9\n",
    "    elif (row['diag_3'] >= 580 and row['diag_3'] <= 629): # diseases of the genitourinary system\n",
    "        df.loc[i, 'diag_3'] = 10\n",
    "    elif (row['diag_3'] >= 630 and row['diag_3'] <= 679): # complications of pregnancy, childbirth and the puerperium\n",
    "        df.loc[i, 'diag_3'] = 11\n",
    "    elif (row['diag_3'] >= 680 and row['diag_3'] <= 709): # diseases of the skin and subcutaneuous tissue\n",
    "        df.loc[i, 'diag_3'] = 12\n",
    "    elif (row['diag_3'] >= 710 and row['diag_3'] <= 739): # diseases of the muscuskeletal system and connective tissue\n",
    "        df.loc[i, 'diag_3'] = 13\n",
    "    elif (row['diag_3'] >= 740 and row['diag_3'] <= 759): # congenital anomalies\n",
    "        df.loc[i, 'diag_3'] = 14\n",
    "    elif (row['diag_3'] >= 760 and row['diag_3'] <= 779): # certain condtions originating in the perinatal period\n",
    "        df.loc[i, 'diag_3'] = 15\n",
    "    elif (row['diag_3'] >= 780 and row['diag_3'] <= 799): # symptoms, signs and ill-defined conditions\n",
    "        df.loc[i, 'diag_3'] = 16\n",
    "    elif (row['diag_3'] >= 800 and row['diag_3'] <= 999): # injury and poisoning\n",
    "        df.loc[i, 'diag_3'] = 17"
   ]
  },
  {
   "cell_type": "markdown",
   "metadata": {},
   "source": [
    "## Track the number of medications changed"
   ]
  },
  {
   "cell_type": "code",
   "execution_count": 709,
   "metadata": {},
   "outputs": [],
   "source": [
    "medicine_columns = ['metformin', 'repaglinide', 'nateglinide', 'chlorpropamide',\n",
    "       'glimepiride', 'acetohexamide', 'glipizide', 'glyburide', 'tolbutamide',\n",
    "       'pioglitazone', 'rosiglitazone', 'acarbose', 'miglitol', 'troglitazone',\n",
    "       'tolazamide', 'examide', 'citoglipton', 'insulin',\n",
    "       'glyburide-metformin', 'glipizide-metformin',\n",
    "       'glimepiride-pioglitazone', 'metformin-rosiglitazone',\n",
    "       'metformin-pioglitazone']"
   ]
  },
  {
   "cell_type": "code",
   "execution_count": 710,
   "metadata": {},
   "outputs": [],
   "source": [
    "# Create a dataframe from the medication columns\n",
    "medicine_df = df[medicine_columns]\n"
   ]
  },
  {
   "cell_type": "code",
   "execution_count": 711,
   "metadata": {},
   "outputs": [],
   "source": [
    "# Define a function that returns 0 if there was no change and 1 if there was \n",
    "def is_changed(x):\n",
    "    same = ['No', 'Steady']\n",
    "    return 0 if x in same else 1"
   ]
  },
  {
   "cell_type": "code",
   "execution_count": 712,
   "metadata": {},
   "outputs": [],
   "source": [
    "# Apply that function to the entire medicine df, creating a data frame of 1s and 0s\n",
    "\n",
    "medicine_df_temp = medicine_df.apply(lambda x: [is_changed(i) for i in x])\n",
    "\n",
    "# Create a new column that sums each row\n",
    "medicine_df_temp['num_meds_changed'] = medicine_df_temp.apply(np.sum, axis=1)\n"
   ]
  },
  {
   "cell_type": "code",
   "execution_count": 713,
   "metadata": {},
   "outputs": [
    {
     "data": {
      "text/plain": [
       "0    44479\n",
       "1    13680\n",
       "2      787\n",
       "3       63\n",
       "4        3\n",
       "Name: num_meds_changed, dtype: int64"
      ]
     },
     "execution_count": 713,
     "metadata": {},
     "output_type": "execute_result"
    }
   ],
   "source": [
    "# Validate values \n",
    "\n",
    "medicine_df_temp['num_meds_changed'].value_counts()"
   ]
  },
  {
   "cell_type": "code",
   "execution_count": 714,
   "metadata": {},
   "outputs": [],
   "source": [
    "# Add num_meds_changed to original df\n",
    "\n",
    "df['num_meds_changed'] = medicine_df_temp['num_meds_changed']\n",
    "\n",
    "# Dropping the medicine columns and the change column as num_meds_changed is now measuring the same thing\n",
    "df.drop(medicine_columns, axis=1, inplace=True)\n",
    "df.drop('change', axis=1, inplace=True)"
   ]
  },
  {
   "cell_type": "code",
   "execution_count": 715,
   "metadata": {},
   "outputs": [
    {
     "data": {
      "text/html": [
       "<div>\n",
       "<style scoped>\n",
       "    .dataframe tbody tr th:only-of-type {\n",
       "        vertical-align: middle;\n",
       "    }\n",
       "\n",
       "    .dataframe tbody tr th {\n",
       "        vertical-align: top;\n",
       "    }\n",
       "\n",
       "    .dataframe thead th {\n",
       "        text-align: right;\n",
       "    }\n",
       "</style>\n",
       "<table border=\"1\" class=\"dataframe\">\n",
       "  <thead>\n",
       "    <tr style=\"text-align: right;\">\n",
       "      <th></th>\n",
       "      <th>metformin</th>\n",
       "      <th>repaglinide</th>\n",
       "      <th>nateglinide</th>\n",
       "      <th>chlorpropamide</th>\n",
       "      <th>glimepiride</th>\n",
       "      <th>acetohexamide</th>\n",
       "      <th>glipizide</th>\n",
       "      <th>glyburide</th>\n",
       "      <th>tolbutamide</th>\n",
       "      <th>pioglitazone</th>\n",
       "      <th>...</th>\n",
       "      <th>tolazamide</th>\n",
       "      <th>examide</th>\n",
       "      <th>citoglipton</th>\n",
       "      <th>insulin</th>\n",
       "      <th>glyburide-metformin</th>\n",
       "      <th>glipizide-metformin</th>\n",
       "      <th>glimepiride-pioglitazone</th>\n",
       "      <th>metformin-rosiglitazone</th>\n",
       "      <th>metformin-pioglitazone</th>\n",
       "      <th>num_meds_changed</th>\n",
       "    </tr>\n",
       "  </thead>\n",
       "  <tbody>\n",
       "    <tr>\n",
       "      <th>70821</th>\n",
       "      <td>1</td>\n",
       "      <td>0</td>\n",
       "      <td>0</td>\n",
       "      <td>0</td>\n",
       "      <td>0</td>\n",
       "      <td>0</td>\n",
       "      <td>0</td>\n",
       "      <td>1</td>\n",
       "      <td>0</td>\n",
       "      <td>0</td>\n",
       "      <td>...</td>\n",
       "      <td>0</td>\n",
       "      <td>0</td>\n",
       "      <td>0</td>\n",
       "      <td>1</td>\n",
       "      <td>0</td>\n",
       "      <td>0</td>\n",
       "      <td>0</td>\n",
       "      <td>0</td>\n",
       "      <td>0</td>\n",
       "      <td>4</td>\n",
       "    </tr>\n",
       "    <tr>\n",
       "      <th>73369</th>\n",
       "      <td>1</td>\n",
       "      <td>0</td>\n",
       "      <td>0</td>\n",
       "      <td>0</td>\n",
       "      <td>0</td>\n",
       "      <td>0</td>\n",
       "      <td>1</td>\n",
       "      <td>0</td>\n",
       "      <td>0</td>\n",
       "      <td>0</td>\n",
       "      <td>...</td>\n",
       "      <td>0</td>\n",
       "      <td>0</td>\n",
       "      <td>0</td>\n",
       "      <td>1</td>\n",
       "      <td>0</td>\n",
       "      <td>0</td>\n",
       "      <td>0</td>\n",
       "      <td>0</td>\n",
       "      <td>0</td>\n",
       "      <td>4</td>\n",
       "    </tr>\n",
       "    <tr>\n",
       "      <th>96599</th>\n",
       "      <td>1</td>\n",
       "      <td>1</td>\n",
       "      <td>0</td>\n",
       "      <td>0</td>\n",
       "      <td>0</td>\n",
       "      <td>0</td>\n",
       "      <td>0</td>\n",
       "      <td>1</td>\n",
       "      <td>0</td>\n",
       "      <td>1</td>\n",
       "      <td>...</td>\n",
       "      <td>0</td>\n",
       "      <td>0</td>\n",
       "      <td>0</td>\n",
       "      <td>0</td>\n",
       "      <td>0</td>\n",
       "      <td>0</td>\n",
       "      <td>0</td>\n",
       "      <td>0</td>\n",
       "      <td>0</td>\n",
       "      <td>4</td>\n",
       "    </tr>\n",
       "  </tbody>\n",
       "</table>\n",
       "<p>3 rows × 24 columns</p>\n",
       "</div>"
      ],
      "text/plain": [
       "       metformin  repaglinide  nateglinide  chlorpropamide  glimepiride  \\\n",
       "70821          1            0            0               0            0   \n",
       "73369          1            0            0               0            0   \n",
       "96599          1            1            0               0            0   \n",
       "\n",
       "       acetohexamide  glipizide  glyburide  tolbutamide  pioglitazone  ...  \\\n",
       "70821              0          0          1            0             0  ...   \n",
       "73369              0          1          0            0             0  ...   \n",
       "96599              0          0          1            0             1  ...   \n",
       "\n",
       "       tolazamide  examide  citoglipton  insulin  glyburide-metformin  \\\n",
       "70821           0        0            0        1                    0   \n",
       "73369           0        0            0        1                    0   \n",
       "96599           0        0            0        0                    0   \n",
       "\n",
       "       glipizide-metformin  glimepiride-pioglitazone  metformin-rosiglitazone  \\\n",
       "70821                    0                         0                        0   \n",
       "73369                    0                         0                        0   \n",
       "96599                    0                         0                        0   \n",
       "\n",
       "       metformin-pioglitazone  num_meds_changed  \n",
       "70821                       0                 4  \n",
       "73369                       0                 4  \n",
       "96599                       0                 4  \n",
       "\n",
       "[3 rows x 24 columns]"
      ]
     },
     "execution_count": 715,
     "metadata": {},
     "output_type": "execute_result"
    }
   ],
   "source": [
    "# Further validation\n",
    "medicine_df_temp[medicine_df_temp['num_meds_changed']==4]"
   ]
  },
  {
   "cell_type": "code",
   "execution_count": 716,
   "metadata": {},
   "outputs": [
    {
     "data": {
      "text/plain": [
       "(59012, 22)"
      ]
     },
     "execution_count": 716,
     "metadata": {},
     "output_type": "execute_result"
    }
   ],
   "source": [
    "df.shape"
   ]
  },
  {
   "cell_type": "markdown",
   "metadata": {},
   "source": [
    "## Track total number of visits in previous year"
   ]
  },
  {
   "cell_type": "code",
   "execution_count": 717,
   "metadata": {},
   "outputs": [],
   "source": [
    "df['total_hosp_visits'] = df['number_emergency'] + df['number_inpatient'] + df['number_outpatient']"
   ]
  },
  {
   "cell_type": "code",
   "execution_count": 718,
   "metadata": {},
   "outputs": [],
   "source": [
    "df.drop(['number_emergency', 'number_inpatient', 'number_outpatient'], axis=1, inplace=True)"
   ]
  },
  {
   "cell_type": "code",
   "execution_count": 719,
   "metadata": {},
   "outputs": [
    {
     "data": {
      "text/plain": [
       "(59012, 20)"
      ]
     },
     "execution_count": 719,
     "metadata": {},
     "output_type": "execute_result"
    }
   ],
   "source": [
    "df.shape"
   ]
  },
  {
   "cell_type": "code",
   "execution_count": 720,
   "metadata": {},
   "outputs": [
    {
     "data": {
      "text/plain": [
       "Index(['race', 'gender', 'age', 'admission_type_id',\n",
       "       'discharge_disposition_id', 'admission_source_id', 'time_in_hospital',\n",
       "       'num_lab_procedures', 'num_procedures', 'num_medications', 'diag_1',\n",
       "       'diag_2', 'diag_3', 'number_diagnoses', 'max_glu_serum', 'A1Cresult',\n",
       "       'diabetesMed', 'readmitted', 'num_meds_changed', 'total_hosp_visits'],\n",
       "      dtype='object')"
      ]
     },
     "execution_count": 720,
     "metadata": {},
     "output_type": "execute_result"
    }
   ],
   "source": [
    "df.columns"
   ]
  },
  {
   "cell_type": "markdown",
   "metadata": {},
   "source": [
    "## Encoding "
   ]
  },
  {
   "cell_type": "code",
   "execution_count": 721,
   "metadata": {},
   "outputs": [],
   "source": [
    "# Encoding age\n",
    "\n",
    "age_groups = {\n",
    "    \"[0-10)\": 0,\n",
    "    \"[10-20)\": 1,\n",
    "    \"[20-30)\":2,\n",
    "    \"[30-40)\":3,\n",
    "    \"[40-50)\":4,\n",
    "    \"[50-60)\":5,\n",
    "    \"[60-70)\":6,\n",
    "    \"[70-80)\":7,\n",
    "    \"[80-90)\":8,\n",
    "    \"[90-100)\":9\n",
    "}\n",
    "\n",
    "df['age'] = df['age'].apply(lambda x: age_groups[x])"
   ]
  },
  {
   "cell_type": "code",
   "execution_count": 722,
   "metadata": {},
   "outputs": [],
   "source": [
    "# Encoding gender\n",
    "\n",
    "gender_groups = {\n",
    "    \"Female\": 0,\n",
    "    \"Male\": 1\n",
    "}\n",
    "\n",
    "df['gender'] = df['gender'].apply(lambda x: gender_groups[x] )"
   ]
  },
  {
   "cell_type": "code",
   "execution_count": 723,
   "metadata": {},
   "outputs": [
    {
     "data": {
      "text/plain": [
       "race                         object\n",
       "gender                        int64\n",
       "age                           int64\n",
       "admission_type_id             int64\n",
       "discharge_disposition_id      int64\n",
       "admission_source_id           int64\n",
       "time_in_hospital              int64\n",
       "num_lab_procedures            int64\n",
       "num_procedures                int64\n",
       "num_medications               int64\n",
       "diag_1                      float64\n",
       "diag_2                      float64\n",
       "diag_3                      float64\n",
       "number_diagnoses              int64\n",
       "max_glu_serum                object\n",
       "A1Cresult                    object\n",
       "diabetesMed                  object\n",
       "readmitted                   object\n",
       "num_meds_changed              int64\n",
       "total_hosp_visits             int64\n",
       "dtype: object"
      ]
     },
     "execution_count": 723,
     "metadata": {},
     "output_type": "execute_result"
    }
   ],
   "source": [
    "df.dtypes"
   ]
  },
  {
   "cell_type": "code",
   "execution_count": 724,
   "metadata": {},
   "outputs": [],
   "source": [
    "# A1c test result\n",
    "\n",
    "result_groups = {\n",
    "    \"None\": 0,\n",
    "    \"Norm\": 1,\n",
    "    \">7\":2,\n",
    "    \">8\":3\n",
    "}\n",
    "\n",
    "df['A1Cresult'] = df['A1Cresult'].apply(lambda x: result_groups[x])"
   ]
  },
  {
   "cell_type": "code",
   "execution_count": 725,
   "metadata": {},
   "outputs": [],
   "source": [
    "# Any diabetes medications prescribed?\n",
    "\n",
    "meds = {\n",
    "    \"No\": 0,\n",
    "    \"Yes\": 1\n",
    "}\n",
    "\n",
    "df['diabetesMed'] = df['diabetesMed'].apply(lambda x: meds[x])"
   ]
  },
  {
   "cell_type": "code",
   "execution_count": 726,
   "metadata": {},
   "outputs": [],
   "source": [
    "# Glucose serum test amount\n",
    "\n",
    "serum_amounts = {\n",
    "    \"None\": 0,\n",
    "    \"Norm\": 1,\n",
    "    \">200\": 2,\n",
    "    \">300\": 3\n",
    "}\n",
    "\n",
    "\n",
    "df['max_glu_serum'] = df['max_glu_serum'].apply(lambda x: serum_amounts[x])"
   ]
  },
  {
   "cell_type": "code",
   "execution_count": 727,
   "metadata": {},
   "outputs": [],
   "source": [
    "# Was the patient readmitted? If so in how long?\n",
    "\n",
    "readmitted = {\n",
    "    \"NO\": 0,\n",
    "    \"<30\": 1,\n",
    "    \">30\": 2\n",
    "}\n",
    "\n",
    "df['readmitted'] = df['readmitted'].apply(lambda x: readmitted[x])"
   ]
  },
  {
   "cell_type": "markdown",
   "metadata": {},
   "source": [
    "## Binning Admission Source Ids"
   ]
  },
  {
   "cell_type": "code",
   "execution_count": 728,
   "metadata": {},
   "outputs": [],
   "source": [
    "def encode_source_type(x):\n",
    "    encode_dict = {\n",
    "        1: \"Referral\",\n",
    "        7: \"Emergency Room\",\n",
    "    }\n",
    "    \n",
    "    return encode_dict[x] if x in encode_dict else \"Other\"\n",
    "\n",
    "# Based on this https://www.health.ny.gov/statistics/sparcs/sysdoc/elements_837/source_of_admission.htm"
   ]
  },
  {
   "cell_type": "code",
   "execution_count": 729,
   "metadata": {},
   "outputs": [],
   "source": [
    "df['admission_source_id'] = df['admission_source_id'].apply(lambda x: encode_source_type(x))"
   ]
  },
  {
   "cell_type": "markdown",
   "metadata": {},
   "source": [
    "## Binning Admission Type Ids"
   ]
  },
  {
   "cell_type": "code",
   "execution_count": 730,
   "metadata": {},
   "outputs": [],
   "source": [
    "def encode_type(x):\n",
    "    \n",
    "    encode_dict = {\n",
    "        1: \"Emergency\",\n",
    "        2: \"Emergency\",\n",
    "        3: \"Elective\"\n",
    "    }\n",
    "    \n",
    "    return encode_dict[x] if x in encode_dict else \"Other\""
   ]
  },
  {
   "cell_type": "code",
   "execution_count": 731,
   "metadata": {},
   "outputs": [],
   "source": [
    "df['admission_type_id'] = df['admission_type_id'].apply(lambda x: encode_type(x))"
   ]
  },
  {
   "cell_type": "code",
   "execution_count": 732,
   "metadata": {},
   "outputs": [],
   "source": [
    "def encode_dispos(x):\n",
    "    \n",
    "    encode_dict = {\n",
    "        1: \"Discharged to Home\"\n",
    "    }\n",
    "    \n",
    "    return encode_dict[x] if x in encode_dict else \"Other\""
   ]
  },
  {
   "cell_type": "code",
   "execution_count": 733,
   "metadata": {},
   "outputs": [],
   "source": [
    "df['discharge_disposition_id'] = df['discharge_disposition_id'].apply(lambda x: encode_dispos(x))"
   ]
  },
  {
   "cell_type": "markdown",
   "metadata": {},
   "source": [
    "## Turning categorical variables to dummy variables"
   ]
  },
  {
   "cell_type": "code",
   "execution_count": 734,
   "metadata": {},
   "outputs": [],
   "source": [
    "object_columns = [i for i in df.columns if df[i].dtype == \"object\"]\n",
    "dummy_columns = pd.get_dummies(df[object_columns])\n",
    "\n",
    "df = pd.concat([df, dummy_columns], axis=1).drop(object_columns, axis=1)"
   ]
  },
  {
   "cell_type": "code",
   "execution_count": 735,
   "metadata": {},
   "outputs": [
    {
     "data": {
      "text/plain": [
       "(59012, 29)"
      ]
     },
     "execution_count": 735,
     "metadata": {},
     "output_type": "execute_result"
    }
   ],
   "source": [
    "df.shape"
   ]
  },
  {
   "cell_type": "code",
   "execution_count": 736,
   "metadata": {},
   "outputs": [
    {
     "data": {
      "text/plain": [
       "Index(['gender', 'age', 'time_in_hospital', 'num_lab_procedures',\n",
       "       'num_procedures', 'num_medications', 'diag_1', 'diag_2', 'diag_3',\n",
       "       'number_diagnoses', 'max_glu_serum', 'A1Cresult', 'diabetesMed',\n",
       "       'readmitted', 'num_meds_changed', 'total_hosp_visits',\n",
       "       'race_AfricanAmerican', 'race_Asian', 'race_Caucasian', 'race_Hispanic',\n",
       "       'race_Other', 'admission_type_id_Elective',\n",
       "       'admission_type_id_Emergency', 'admission_type_id_Other',\n",
       "       'discharge_disposition_id_Discharged to Home',\n",
       "       'discharge_disposition_id_Other', 'admission_source_id_Emergency Room',\n",
       "       'admission_source_id_Other', 'admission_source_id_Referral'],\n",
       "      dtype='object')"
      ]
     },
     "execution_count": 736,
     "metadata": {},
     "output_type": "execute_result"
    }
   ],
   "source": [
    "df.columns"
   ]
  },
  {
   "cell_type": "markdown",
   "metadata": {},
   "source": [
    "## RFC Test"
   ]
  },
  {
   "cell_type": "code",
   "execution_count": 737,
   "metadata": {},
   "outputs": [],
   "source": [
    "from sklearn.ensemble import RandomForestClassifier\n",
    "\n",
    "test_df = df.copy()\n",
    "\n",
    "X = test_df.drop('readmitted', axis=1).values\n",
    "y = test_df['readmitted'].values"
   ]
  },
  {
   "cell_type": "code",
   "execution_count": 738,
   "metadata": {},
   "outputs": [],
   "source": [
    "from sklearn.model_selection import train_test_split\n",
    "\n",
    "X_train, X_test, y_train, y_test = train_test_split(X, y, random_state=1, test_size=0.2)"
   ]
  },
  {
   "cell_type": "code",
   "execution_count": 739,
   "metadata": {},
   "outputs": [],
   "source": [
    "# from imblearn.combine import SMOTEENN\n",
    "# smote_enn = SMOTEENN(random_state=0)\n",
    "# X_resampled, y_resampled = smote_enn.fit_resample(X_train, y_train)"
   ]
  },
  {
   "cell_type": "code",
   "execution_count": 740,
   "metadata": {},
   "outputs": [],
   "source": [
    "from sklearn.preprocessing import StandardScaler\n",
    "\n",
    "scaler = StandardScaler().fit(X_train)\n",
    "\n",
    "X_train_scaled = scaler.transform(X_train)\n",
    "X_test_scaled = scaler.transform(X_test)"
   ]
  },
  {
   "cell_type": "code",
   "execution_count": 741,
   "metadata": {},
   "outputs": [],
   "source": [
    "from sklearn.ensemble import RandomForestClassifier\n",
    "\n",
    "rf_model = RandomForestClassifier(n_estimators=300, random_state=1, max_depth=100, bootstrap=True, max_features=3).fit(X_train_scaled, y_train)"
   ]
  },
  {
   "cell_type": "code",
   "execution_count": 743,
   "metadata": {},
   "outputs": [
    {
     "data": {
      "text/plain": [
       "0.5971363212742523"
      ]
     },
     "execution_count": 743,
     "metadata": {},
     "output_type": "execute_result"
    }
   ],
   "source": [
    "from sklearn.metrics import accuracy_score\n",
    "\n",
    "predictions = rf_model.predict(X_test_scaled)\n",
    "acc_score = accuracy_score(y_test, predictions)\n",
    "\n",
    "acc_score"
   ]
  },
  {
   "cell_type": "code",
   "execution_count": 744,
   "metadata": {},
   "outputs": [
    {
     "data": {
      "text/html": [
       "<div>\n",
       "<style scoped>\n",
       "    .dataframe tbody tr th:only-of-type {\n",
       "        vertical-align: middle;\n",
       "    }\n",
       "\n",
       "    .dataframe tbody tr th {\n",
       "        vertical-align: top;\n",
       "    }\n",
       "\n",
       "    .dataframe thead th {\n",
       "        text-align: right;\n",
       "    }\n",
       "</style>\n",
       "<table border=\"1\" class=\"dataframe\">\n",
       "  <thead>\n",
       "    <tr style=\"text-align: right;\">\n",
       "      <th></th>\n",
       "      <th>Predicted 0</th>\n",
       "      <th>Predicted 1</th>\n",
       "      <th>Predicted 2</th>\n",
       "    </tr>\n",
       "  </thead>\n",
       "  <tbody>\n",
       "    <tr>\n",
       "      <th>Actual 0</th>\n",
       "      <td>6283</td>\n",
       "      <td>1</td>\n",
       "      <td>638</td>\n",
       "    </tr>\n",
       "    <tr>\n",
       "      <th>Actual 1</th>\n",
       "      <td>841</td>\n",
       "      <td>1</td>\n",
       "      <td>254</td>\n",
       "    </tr>\n",
       "    <tr>\n",
       "      <th>Actual 2</th>\n",
       "      <td>3018</td>\n",
       "      <td>3</td>\n",
       "      <td>764</td>\n",
       "    </tr>\n",
       "  </tbody>\n",
       "</table>\n",
       "</div>"
      ],
      "text/plain": [
       "          Predicted 0  Predicted 1  Predicted 2\n",
       "Actual 0         6283            1          638\n",
       "Actual 1          841            1          254\n",
       "Actual 2         3018            3          764"
      ]
     },
     "execution_count": 744,
     "metadata": {},
     "output_type": "execute_result"
    }
   ],
   "source": [
    "from sklearn.metrics import confusion_matrix, classification_report\n",
    "\n",
    "cm = confusion_matrix(y_test, predictions)\n",
    "\n",
    "# Create a DataFrame from the confusion matrix.\n",
    "cm_df = pd.DataFrame(\n",
    "    cm, index=[\"Actual 0\", \"Actual 1\", \"Actual 2\"], columns=[\"Predicted 0\", \"Predicted 1\", \"Predicted 2\"])\n",
    "\n",
    "cm_df\n"
   ]
  },
  {
   "cell_type": "code",
   "execution_count": 745,
   "metadata": {},
   "outputs": [
    {
     "name": "stdout",
     "output_type": "stream",
     "text": [
      "              precision    recall  f1-score   support\n",
      "\n",
      "           0       0.62      0.91      0.74      6922\n",
      "           1       0.20      0.00      0.00      1096\n",
      "           2       0.46      0.20      0.28      3785\n",
      "\n",
      "    accuracy                           0.60     11803\n",
      "   macro avg       0.43      0.37      0.34     11803\n",
      "weighted avg       0.53      0.60      0.52     11803\n",
      "\n"
     ]
    }
   ],
   "source": [
    "print(classification_report(y_test, predictions))"
   ]
  },
  {
   "cell_type": "code",
   "execution_count": 746,
   "metadata": {},
   "outputs": [
    {
     "data": {
      "text/plain": [
       "[(0.1357480974985422, 'num_lab_procedures'),\n",
       " (0.1190981963668748, 'num_medications'),\n",
       " (0.08700798926983289, 'time_in_hospital'),\n",
       " (0.08143739603993423, 'diag_2'),\n",
       " (0.07936731422351631, 'diag_1'),\n",
       " (0.07860367939760604, 'diag_3'),\n",
       " (0.06852201608706288, 'age'),\n",
       " (0.05949836881636681, 'num_procedures'),\n",
       " (0.05887781776804857, 'number_diagnoses'),\n",
       " (0.04339913468496559, 'total_hosp_visits'),\n",
       " (0.026287924048556857, 'gender'),\n",
       " (0.026136987125071075, 'A1Cresult'),\n",
       " (0.022823679471580753, 'num_meds_changed'),\n",
       " (0.013903380625841913, 'diabetesMed'),\n",
       " (0.012583680218589246, 'race_Caucasian'),\n",
       " (0.011528381734523486, 'race_AfricanAmerican'),\n",
       " (0.009027859046709287, 'admission_source_id_Emergency Room'),\n",
       " (0.008717303628821301, 'admission_source_id_Referral'),\n",
       " (0.007810367647914496, 'admission_type_id_Emergency'),\n",
       " (0.007318926527531439, 'discharge_disposition_id_Discharged to Home'),\n",
       " (0.007247173188577783, 'discharge_disposition_id_Other'),\n",
       " (0.007129009316899024, 'max_glu_serum'),\n",
       " (0.006966288138487611, 'admission_source_id_Other'),\n",
       " (0.006205581359590891, 'admission_type_id_Elective'),\n",
       " (0.005923718066067116, 'admission_type_id_Other'),\n",
       " (0.0039135328340476035, 'race_Hispanic'),\n",
       " (0.0032330984569482685, 'race_Other'),\n",
       " (0.001683098411491433, 'race_Asian')]"
      ]
     },
     "execution_count": 746,
     "metadata": {},
     "output_type": "execute_result"
    }
   ],
   "source": [
    "importances = rf_model.feature_importances_\n",
    "\n",
    "sorted(zip(rf_model.feature_importances_, test_df.drop('readmitted', axis=1).columns), reverse=True)"
   ]
  },
  {
   "cell_type": "code",
   "execution_count": null,
   "metadata": {},
   "outputs": [],
   "source": []
  }
 ],
 "metadata": {
  "kernelspec": {
   "display_name": "PythonData",
   "language": "python",
   "name": "pythondata"
  },
  "language_info": {
   "codemirror_mode": {
    "name": "ipython",
    "version": 3
   },
   "file_extension": ".py",
   "mimetype": "text/x-python",
   "name": "python",
   "nbconvert_exporter": "python",
   "pygments_lexer": "ipython3",
   "version": "3.7.7"
  }
 },
 "nbformat": 4,
 "nbformat_minor": 4
}
