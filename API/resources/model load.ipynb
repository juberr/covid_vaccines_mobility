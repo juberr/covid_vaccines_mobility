{
 "cells": [
  {
   "cell_type": "code",
   "execution_count": 1,
   "metadata": {},
   "outputs": [],
   "source": [
    "from joblib import dump, load\n",
    "import pandas as pd"
   ]
  },
  {
   "cell_type": "markdown",
   "metadata": {},
   "source": [
    "## Creating a function for model predictions on new data"
   ]
  },
  {
   "cell_type": "code",
   "execution_count": 3,
   "metadata": {},
   "outputs": [],
   "source": [
    "# load the scaler\n",
    "\n",
    "scaler = load('model_resources/scaler.joblib')"
   ]
  },
  {
   "cell_type": "code",
   "execution_count": 4,
   "metadata": {},
   "outputs": [],
   "source": [
    "# load model\n",
    "model = load('model_resources/rfc.joblib')"
   ]
  },
  {
   "cell_type": "code",
   "execution_count": 22,
   "metadata": {},
   "outputs": [],
   "source": [
    "def predict_readmission(data):\n",
    "    \n",
    "    scaled_data = scaler.transform(data.reshape(1,-1))\n",
    "    \n",
    "    return model.predict_proba(scaled_data)\n"
   ]
  },
  {
   "cell_type": "markdown",
   "metadata": {},
   "source": [
    "## Creating a function to parse data from front end"
   ]
  },
  {
   "cell_type": "code",
   "execution_count": 6,
   "metadata": {},
   "outputs": [],
   "source": [
    "import json\n",
    "\n",
    "test_json = {\n",
    "    'gender': 'Male',\n",
    "    'age': '70-80',\n",
    "    'time_in_hospital': 15,\n",
    "    'num_lab_procedures': 3,\n",
    "    'num_procedures': 30,\n",
    "    'num_medications': 20,\n",
    "    'diag_1': 'infectious and parasitic diseases',\n",
    "    'diag_2': 'endocrine, nutritional, metabolic & immunity disorders',\n",
    "    'diag_3': 'diseases of the circulatory system',\n",
    "    'number_diagnoses': 3,\n",
    "    'max_glu_serum': 'None',\n",
    "    'A1Cresult': 'None',\n",
    "    'diabetesMed': 'No',\n",
    "    'num_meds_changed': 10,\n",
    "    'total_hosp_visits': 10,\n",
    "    'race_AfricanAmerican': 1,\n",
    "    'race_Asian': 0,\n",
    "    'race_Caucasian': 0,\n",
    "    'race_Hispanic': 0,\n",
    "    'race_Other': 0,\n",
    "    'admission_type_id_Elective': 1,\n",
    "    'admission_type_id_Emergency': 0,\n",
    "    'admission_type_id_Other': 0,\n",
    "    'discharge_disposition_id_Discharged to Home': 1,\n",
    "    'discharge_disposition_id_Other': 0,\n",
    "    'admission_source_id_Emergency Room': 0,\n",
    "    'admission_source_id_Other': 1,\n",
    "    'admission_source_id_Referral': 0,\n",
    "}\n",
    "\n",
    "test_json = json.dumps(test_json)"
   ]
  },
  {
   "cell_type": "code",
   "execution_count": 14,
   "metadata": {},
   "outputs": [],
   "source": [
    "def clean_json(json_data):\n",
    "    \n",
    "    json_data = json.loads(json_data)\n",
    "\n",
    "    # Using the encoding steps used in the training of our model to encode data received from our dashboard\n",
    "    age = {\n",
    "    \"0-10\": 0,\n",
    "    \"10-20\": 1,\n",
    "    \"20-30\":2,\n",
    "    \"30-40\":3,\n",
    "    \"40-50\":4,\n",
    "    \"50-60\":5,\n",
    "    \"60-70\":6,\n",
    "    \"70-80\":7,\n",
    "    \"80-90\":8,\n",
    "    \"90-100\":9\n",
    "    }\n",
    "    \n",
    "    gender = {\n",
    "    \"Female\": 0,\n",
    "    \"Male\": 1\n",
    "    }\n",
    "    \n",
    "    diag_dict = {\n",
    "    'infectious and parasitic diseases': 1,\n",
    "    'neoplasms': 2,\n",
    "    'endocrine, nutritional, metabolic & immunity disorders': 3,\n",
    "    'diseases of the blood and blood-forming organisms': 4,\n",
    "    'mental disorder': 5,\n",
    "    'diseases of the nervous system and sense organs': 6,\n",
    "    'diseases of the circulatory system': 7,\n",
    "    'diseases of the respiratory system': 8,\n",
    "    'diseases of the digestive system': 9,\n",
    "    'diseases of the genitourinary system': 10,\n",
    "    'complications of pregnancy, childbirth, and the puerperium': 11,\n",
    "    'diseases of the skin and subcutaneuous tissue': 12,\n",
    "    'diseases of the muscuskeletal system and connective tissue': 13,\n",
    "    'congenital anomalies': 14,\n",
    "    'certain condtions originating in the perinatal period': 15,\n",
    "    'symptoms, signs and ill-defined conditions': 16,\n",
    "    'injury and poisoning': 17\n",
    "    }\n",
    "    \n",
    "    A1Cresult = {\n",
    "    \"None\": 0,\n",
    "    \"Norm\": 1,\n",
    "    \">7\":2,\n",
    "    \">8\":3\n",
    "    }\n",
    "    \n",
    "    diabetesMed = {\n",
    "    \"No\": 0,\n",
    "    \"Yes\": 1\n",
    "    }\n",
    "    \n",
    "    serum_amounts = {\n",
    "    \"None\": 0,\n",
    "    \"Norm\": 1,\n",
    "    \">200\": 2,\n",
    "    \">300\": 3\n",
    "    }\n",
    "    \n",
    "    columns_to_clean = {\n",
    "    'gender': gender,\n",
    "    'age': age, \n",
    "    'diag_1': diag_dict,\n",
    "    'diag_2': diag_dict,\n",
    "    'diag_3': diag_dict,\n",
    "    'max_glu_serum': serum_amounts,\n",
    "    'A1Cresult': A1Cresult,\n",
    "    'diabetesMed': diabetesMed}\n",
    "    \n",
    "    \n",
    "    for i in columns_to_clean:\n",
    "        if i in json_data:\n",
    "            json_data[i] = columns_to_clean[i][json_data[i]]\n",
    "            \n",
    "    for i in json_data:\n",
    "        json_data[i] = [json_data[i]]\n",
    "        \n",
    "        \n",
    "    return json.dumps(json_data)\n"
   ]
  },
  {
   "cell_type": "code",
   "execution_count": 15,
   "metadata": {},
   "outputs": [],
   "source": [
    "def create_input_data(json_data):\n",
    "    \n",
    "    # turn json into a pandas df\n",
    "    df = pd.read_json(json_data)\n",
    "\n",
    "    return df.values\n",
    "    "
   ]
  },
  {
   "cell_type": "code",
   "execution_count": 20,
   "metadata": {},
   "outputs": [],
   "source": [
    "input_ = create_input_data(clean_json(test_json))"
   ]
  },
  {
   "cell_type": "code",
   "execution_count": 27,
   "metadata": {},
   "outputs": [
    {
     "data": {
      "text/plain": [
       "(0.48333333333333334, 0.5166666666666667)"
      ]
     },
     "execution_count": 27,
     "metadata": {},
     "output_type": "execute_result"
    }
   ],
   "source": [
    "tuple(predict_readmission(input_)[0])"
   ]
  },
  {
   "cell_type": "code",
   "execution_count": 25,
   "metadata": {},
   "outputs": [
    {
     "data": {
      "text/plain": [
       "824"
      ]
     },
     "execution_count": 25,
     "metadata": {},
     "output_type": "execute_result"
    }
   ],
   "source": [
    "len(test_json)"
   ]
  },
  {
   "cell_type": "code",
   "execution_count": null,
   "metadata": {},
   "outputs": [],
   "source": []
  }
 ],
 "metadata": {
  "kernelspec": {
   "display_name": "PythonData",
   "language": "python",
   "name": "pythondata"
  },
  "language_info": {
   "codemirror_mode": {
    "name": "ipython",
    "version": 3
   },
   "file_extension": ".py",
   "mimetype": "text/x-python",
   "name": "python",
   "nbconvert_exporter": "python",
   "pygments_lexer": "ipython3",
   "version": "3.7.7"
  }
 },
 "nbformat": 4,
 "nbformat_minor": 4
}
